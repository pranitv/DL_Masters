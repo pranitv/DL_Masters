{
 "cells": [
  {
   "cell_type": "markdown",
   "metadata": {},
   "source": [
    "# Assignment 4 Questions"
   ]
  },
  {
   "cell_type": "markdown",
   "metadata": {},
   "source": [
    "## Problem Statement"
   ]
  },
  {
   "cell_type": "markdown",
   "metadata": {},
   "source": [
    "Q.1 Given a sequence of n values x1, x2, ..., xn and a window size k>0, the k-th moving average of\n",
    "the given sequence is defined as follows:\n",
    "\n",
    "The moving average sequence has n-k+1 elements as shown below.\n",
    "The moving averages with k=4 of a ten-value sequence (n=10) is shown below\n",
    "\n",
    "    i 1 2 3 4 5 6 7 8 9 10\n",
    "    ===== == == == == == == == == == ==\n",
    "    Input 10 20 30 40 50 60 70 80 90 100\n",
    "    y1 25 = (10+20+30+40)/4\n",
    "    y2 35 = (20+30+40+50)/4\n",
    "    y3 45 = (30+40+50+60)/4\n",
    "    y4 55 = (40+50+60+70)/4\n",
    "    y5 65 = (50+60+70+80)/4\n",
    "    y6 75 = (60+70+80+90)/4\n",
    "    y7 85 = (70+80+90+100)/4\n",
    "\n",
    "Thus, the moving average sequence has n-k+1=10-4+1=7 values.\n",
    "\n",
    "Write a function to find moving average in an array over a window:\n",
    "\n",
    "Test it over [3, 5, 7, 2, 8, 10, 11, 65, 72, 81, 99, 100, 150] and window of 3."
   ]
  },
  {
   "cell_type": "code",
   "execution_count": 4,
   "metadata": {},
   "outputs": [
    {
     "name": "stdout",
     "output_type": "stream",
     "text": [
      "The moving average sequence is : [5.0, 4.666666666666667, 5.666666666666667, 6.666666666666667, 9.666666666666666, 28.666666666666668, 49.333333333333336, 72.66666666666667, 84.0, 93.33333333333333]\n",
      "The moving average sequence has :10values\n"
     ]
    }
   ],
   "source": [
    "def moving_avg(lst,k):\n",
    "    n = len(lst)\n",
    "    avg =[]\n",
    "    for i in range(n-k):\n",
    "        avg.append((lst[i]+lst[i+1]+lst[i+2])/k)\n",
    "    return avg\n",
    "test = [3, 5, 7, 2, 8, 10, 11, 65, 72, 81, 99, 100, 150]\n",
    "k = 3\n",
    "print('The moving average sequence is :',moving_avg(test,k))\n",
    "print('The moving average sequence has :'+str(len(moving_avg(test,k)))+' values')\n",
    "        \n",
    "    \n",
    "    "
   ]
  },
  {
   "cell_type": "markdown",
   "metadata": {},
   "source": [
    "Q.2 How-to-count-distance-to-the-previous-zero\n",
    "For each value, count the difference back to the previous zero (or the start of the Series,\n",
    "whichever is closer)\n",
    "create a new column 'Y'\n",
    "Consider a DataFrame df where there is an integer column 'X'\n",
    "    \n",
    "    import pandas as pd\n",
    "    df = pd.DataFrame({'X': [7, 2, 0, 3, 4, 2, 5, 0, 3, 4]})"
   ]
  },
  {
   "cell_type": "code",
   "execution_count": 21,
   "metadata": {},
   "outputs": [
    {
     "data": {
      "text/html": [
       "<div>\n",
       "<style scoped>\n",
       "    .dataframe tbody tr th:only-of-type {\n",
       "        vertical-align: middle;\n",
       "    }\n",
       "\n",
       "    .dataframe tbody tr th {\n",
       "        vertical-align: top;\n",
       "    }\n",
       "\n",
       "    .dataframe thead th {\n",
       "        text-align: right;\n",
       "    }\n",
       "</style>\n",
       "<table border=\"1\" class=\"dataframe\">\n",
       "  <thead>\n",
       "    <tr style=\"text-align: right;\">\n",
       "      <th></th>\n",
       "      <th>X</th>\n",
       "      <th>Y</th>\n",
       "    </tr>\n",
       "  </thead>\n",
       "  <tbody>\n",
       "    <tr>\n",
       "      <th>0</th>\n",
       "      <td>7</td>\n",
       "      <td>1</td>\n",
       "    </tr>\n",
       "    <tr>\n",
       "      <th>1</th>\n",
       "      <td>2</td>\n",
       "      <td>2</td>\n",
       "    </tr>\n",
       "    <tr>\n",
       "      <th>2</th>\n",
       "      <td>0</td>\n",
       "      <td>0</td>\n",
       "    </tr>\n",
       "    <tr>\n",
       "      <th>3</th>\n",
       "      <td>3</td>\n",
       "      <td>1</td>\n",
       "    </tr>\n",
       "    <tr>\n",
       "      <th>4</th>\n",
       "      <td>4</td>\n",
       "      <td>2</td>\n",
       "    </tr>\n",
       "    <tr>\n",
       "      <th>5</th>\n",
       "      <td>2</td>\n",
       "      <td>3</td>\n",
       "    </tr>\n",
       "    <tr>\n",
       "      <th>6</th>\n",
       "      <td>5</td>\n",
       "      <td>4</td>\n",
       "    </tr>\n",
       "    <tr>\n",
       "      <th>7</th>\n",
       "      <td>0</td>\n",
       "      <td>0</td>\n",
       "    </tr>\n",
       "    <tr>\n",
       "      <th>8</th>\n",
       "      <td>3</td>\n",
       "      <td>1</td>\n",
       "    </tr>\n",
       "    <tr>\n",
       "      <th>9</th>\n",
       "      <td>4</td>\n",
       "      <td>2</td>\n",
       "    </tr>\n",
       "  </tbody>\n",
       "</table>\n",
       "</div>"
      ],
      "text/plain": [
       "   X  Y\n",
       "0  7  1\n",
       "1  2  2\n",
       "2  0  0\n",
       "3  3  1\n",
       "4  4  2\n",
       "5  2  3\n",
       "6  5  4\n",
       "7  0  0\n",
       "8  3  1\n",
       "9  4  2"
      ]
     },
     "execution_count": 21,
     "metadata": {},
     "output_type": "execute_result"
    }
   ],
   "source": [
    "import pandas as pd\n",
    "\n",
    "df = pd.DataFrame({'X': [7, 2, 0, 3, 4, 2, 5, 0, 3, 4]})\n",
    "l = df['X'].tolist()\n",
    "i = 0\n",
    "r = []\n",
    "for element in l:\n",
    "    if element != 0:\n",
    "        i += 1\n",
    "    else:\n",
    "        i = 0\n",
    "    r.append(i)\n",
    "Y = pd.Series(r)\n",
    "df = pd.concat([df,Y],axis=1)\n",
    "df.columns = ['X','Y']\n",
    "df\n"
   ]
  },
  {
   "cell_type": "markdown",
   "metadata": {},
   "source": [
    "Q.3 Create a DatetimeIndex that contains each business day of 2015 and use it to index a Series of\n",
    "random numbers."
   ]
  },
  {
   "cell_type": "code",
   "execution_count": 44,
   "metadata": {},
   "outputs": [
    {
     "data": {
      "text/plain": [
       "2015-01-01     0\n",
       "2015-01-02    62\n",
       "2015-01-05    85\n",
       "2015-01-06    13\n",
       "2015-01-07    28\n",
       "2015-01-08    59\n",
       "2015-01-09    33\n",
       "2015-01-12    91\n",
       "2015-01-13    72\n",
       "2015-01-14    99\n",
       "2015-01-15    57\n",
       "2015-01-16    48\n",
       "2015-01-19    52\n",
       "2015-01-20    41\n",
       "2015-01-21    76\n",
       "2015-01-22    29\n",
       "2015-01-23    19\n",
       "2015-01-26    66\n",
       "2015-01-27    58\n",
       "2015-01-28    95\n",
       "2015-01-29    17\n",
       "2015-01-30    17\n",
       "2015-02-02    71\n",
       "2015-02-03    60\n",
       "2015-02-04    53\n",
       "2015-02-05    61\n",
       "2015-02-06    86\n",
       "2015-02-09    17\n",
       "2015-02-10    51\n",
       "2015-02-11    29\n",
       "              ..\n",
       "2015-11-20    35\n",
       "2015-11-23    77\n",
       "2015-11-24    27\n",
       "2015-11-25    20\n",
       "2015-11-26    12\n",
       "2015-11-27    50\n",
       "2015-11-30    33\n",
       "2015-12-01    83\n",
       "2015-12-02    39\n",
       "2015-12-03    85\n",
       "2015-12-04    56\n",
       "2015-12-07    38\n",
       "2015-12-08    66\n",
       "2015-12-09    82\n",
       "2015-12-10    76\n",
       "2015-12-11    68\n",
       "2015-12-14    14\n",
       "2015-12-15    96\n",
       "2015-12-16    97\n",
       "2015-12-17    20\n",
       "2015-12-18    77\n",
       "2015-12-21    86\n",
       "2015-12-22    22\n",
       "2015-12-23    99\n",
       "2015-12-24    17\n",
       "2015-12-25     5\n",
       "2015-12-28    48\n",
       "2015-12-29    57\n",
       "2015-12-30    92\n",
       "2015-12-31    85\n",
       "Length: 261, dtype: int32"
      ]
     },
     "execution_count": 44,
     "metadata": {},
     "output_type": "execute_result"
    }
   ],
   "source": [
    "from pandas.tseries.offsets import *\n",
    "import pandas as pd\n",
    "import numpy as np\n",
    "Days = []\n",
    "#for day in pd.date_range('2015-01-01', '2015-12-31', freq=BDay()):\n",
    "Days.append(pd.date_range('2015-01-01','2015-12-31',freq=BDay()).strftime('%Y-%m-%d').tolist())\n",
    "BusinessDays = Days[0]\n",
    "num_list = np.random.randint(0,100,len(BusinessDays))\n",
    "s = pd.Series(num_list,index = BusinessDays)\n",
    "s"
   ]
  },
  {
   "cell_type": "markdown",
   "metadata": {},
   "source": [
    "Q.4 "
   ]
  }
 ],
 "metadata": {
  "kernelspec": {
   "display_name": "Python 3",
   "language": "python",
   "name": "python3"
  },
  "language_info": {
   "codemirror_mode": {
    "name": "ipython",
    "version": 3
   },
   "file_extension": ".py",
   "mimetype": "text/x-python",
   "name": "python",
   "nbconvert_exporter": "python",
   "pygments_lexer": "ipython3",
   "version": "3.7.3"
  }
 },
 "nbformat": 4,
 "nbformat_minor": 2
}
